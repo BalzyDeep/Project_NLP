{
 "cells": [
  {
   "cell_type": "markdown",
   "metadata": {
    "toc": true
   },
   "source": [
    "<h1>Содержание<span class=\"tocSkip\"></span></h1>\n",
    "<div class=\"toc\"><ul class=\"toc-item\"><li><span><a href=\"#Подготовка\" data-toc-modified-id=\"Подготовка-1\"><span class=\"toc-item-num\">1&nbsp;&nbsp;</span>Подготовка</a></span></li><li><span><a href=\"#Обучение\" data-toc-modified-id=\"Обучение-2\"><span class=\"toc-item-num\">2&nbsp;&nbsp;</span>Обучение</a></span></li><li><span><a href=\"#Выводы\" data-toc-modified-id=\"Выводы-3\"><span class=\"toc-item-num\">3&nbsp;&nbsp;</span>Выводы</a></span></li><li><span><a href=\"#Чек-лист-проверки\" data-toc-modified-id=\"Чек-лист-проверки-4\"><span class=\"toc-item-num\">4&nbsp;&nbsp;</span>Чек-лист проверки</a></span></li></ul></div>"
   ]
  },
  {
   "cell_type": "markdown",
   "metadata": {},
   "source": [
    "# Проект для «Викишоп»"
   ]
  },
  {
   "cell_type": "markdown",
   "metadata": {},
   "source": [
    "Интернет-магазин «Викишоп» запускает новый сервис. Теперь пользователи могут редактировать и дополнять описания товаров, как в вики-сообществах. То есть клиенты предлагают свои правки и комментируют изменения других. Магазину нужен инструмент, который будет искать токсичные комментарии и отправлять их на модерацию. \n",
    "\n",
    "Обучите модель классифицировать комментарии на позитивные и негативные. В вашем распоряжении набор данных с разметкой о токсичности правок.\n",
    "\n",
    "Постройте модель со значением метрики качества *F1* не меньше 0.75. \n",
    "\n",
    "**Инструкция по выполнению проекта**\n",
    "\n",
    "1. Загрузите и подготовьте данные.\n",
    "2. Обучите разные модели. \n",
    "3. Сделайте выводы.\n",
    "\n",
    "Для выполнения проекта применять *BERT* необязательно, но вы можете попробовать.\n",
    "\n",
    "**Описание данных**\n",
    "\n",
    "Данные находятся в файле `toxic_comments.csv`. Столбец *text* в нём содержит текст комментария, а *toxic* — целевой признак."
   ]
  },
  {
   "cell_type": "code",
   "execution_count": 1,
   "metadata": {},
   "outputs": [],
   "source": [
    "import pandas as pd\n",
    "import numpy as np\n",
    "import re\n",
    "\n",
    "import matplotlib.pyplot as plt\n",
    "\n",
    "import nltk\n",
    "from nltk.stem import WordNetLemmatizer\n",
    "from nltk.corpus import wordnet\n",
    "\n",
    "from sklearn.pipeline import Pipeline\n",
    "from sklearn.feature_extraction.text import TfidfVectorizer\n",
    "\n",
    "from sklearn.model_selection import train_test_split, GridSearchCV\n",
    "from sklearn.metrics import f1_score\n",
    "\n",
    "from sklearn.linear_model import LogisticRegression\n",
    "from sklearn.ensemble import RandomForestClassifier\n",
    "from sklearn.svm import LinearSVC\n",
    "\n",
    "from tqdm.notebook import tqdm\n",
    "from time import time"
   ]
  },
  {
   "cell_type": "code",
   "execution_count": 2,
   "metadata": {},
   "outputs": [],
   "source": [
    "RANDOM_STATE = 42"
   ]
  },
  {
   "cell_type": "markdown",
   "metadata": {},
   "source": [
    "## Подготовка"
   ]
  },
  {
   "cell_type": "markdown",
   "metadata": {},
   "source": [
    "Загрузим даннные и посмотрим, как выглядит датасет, как распределен целевой признак"
   ]
  },
  {
   "cell_type": "code",
   "execution_count": 3,
   "metadata": {},
   "outputs": [],
   "source": [
    "comments_data = pd.read_csv('/datasets/toxic_comments.csv')"
   ]
  },
  {
   "cell_type": "code",
   "execution_count": 4,
   "metadata": {},
   "outputs": [],
   "source": [
    "comments_data = comments_data.drop(columns=['Unnamed: 0'], axis=1)"
   ]
  },
  {
   "cell_type": "code",
   "execution_count": 5,
   "metadata": {},
   "outputs": [
    {
     "data": {
      "text/html": [
       "<div>\n",
       "<style scoped>\n",
       "    .dataframe tbody tr th:only-of-type {\n",
       "        vertical-align: middle;\n",
       "    }\n",
       "\n",
       "    .dataframe tbody tr th {\n",
       "        vertical-align: top;\n",
       "    }\n",
       "\n",
       "    .dataframe thead th {\n",
       "        text-align: right;\n",
       "    }\n",
       "</style>\n",
       "<table border=\"1\" class=\"dataframe\">\n",
       "  <thead>\n",
       "    <tr style=\"text-align: right;\">\n",
       "      <th></th>\n",
       "      <th>text</th>\n",
       "      <th>toxic</th>\n",
       "    </tr>\n",
       "  </thead>\n",
       "  <tbody>\n",
       "    <tr>\n",
       "      <th>63646</th>\n",
       "      <td>i doubt he ever SERIOUSLY considered college, ...</td>\n",
       "      <td>0</td>\n",
       "    </tr>\n",
       "  </tbody>\n",
       "</table>\n",
       "</div>"
      ],
      "text/plain": [
       "                                                    text  toxic\n",
       "63646  i doubt he ever SERIOUSLY considered college, ...      0"
      ]
     },
     "metadata": {},
     "output_type": "display_data"
    },
    {
     "name": "stdout",
     "output_type": "stream",
     "text": [
      "<class 'pandas.core.frame.DataFrame'>\n",
      "RangeIndex: 159292 entries, 0 to 159291\n",
      "Data columns (total 2 columns):\n",
      " #   Column  Non-Null Count   Dtype \n",
      "---  ------  --------------   ----- \n",
      " 0   text    159292 non-null  object\n",
      " 1   toxic   159292 non-null  int64 \n",
      "dtypes: int64(1), object(1)\n",
      "memory usage: 2.4+ MB\n"
     ]
    },
    {
     "data": {
      "text/plain": [
       "None"
      ]
     },
     "metadata": {},
     "output_type": "display_data"
    },
    {
     "name": "stdout",
     "output_type": "stream",
     "text": [
      "Количество пропущенных значений:\n",
      "text     0\n",
      "toxic    0\n",
      "dtype: int64     \n",
      "Количество явных дубликатов: 0\n"
     ]
    }
   ],
   "source": [
    "def info_fuc(df):\n",
    "    display(df.sample())\n",
    "    display(df.info())\n",
    "    print(f'Количество пропущенных значений:\\n{df.isna().sum()} \\\n",
    "    \\nКоличество явных дубликатов: {df.duplicated().sum()}')\n",
    "info_fuc(comments_data)"
   ]
  },
  {
   "cell_type": "code",
   "execution_count": 6,
   "metadata": {},
   "outputs": [
    {
     "data": {
      "image/png": "[encoded data removed]",
      "text/plain": [
       "<Figure size 432x288 with 1 Axes>"
      ]
     },
     "metadata": {
      "needs_background": "light"
     },
     "output_type": "display_data"
    }
   ],
   "source": [
    "comments_data['toxic'].value_counts().plot(kind='bar')\n",
    "plt.title('Распределение целевого признака')\n",
    "plt.xlabel('Токсичность')\n",
    "plt.ylabel('Количество')\n",
    "plt.xticks(rotation=0)\n",
    "plt.show()"
   ]
  },
  {
   "cell_type": "code",
   "execution_count": 7,
   "metadata": {},
   "outputs": [],
   "source": [
    "lemmatizer = WordNetLemmatizer()"
   ]
  },
  {
   "cell_type": "code",
   "execution_count": 8,
   "metadata": {},
   "outputs": [
    {
     "name": "stderr",
     "output_type": "stream",
     "text": [
      "[nltk_data] Downloading package wordnet to /home/jovyan/nltk_data...\n",
      "[nltk_data]   Package wordnet is already up-to-date!\n",
      "[nltk_data] Downloading package averaged_perceptron_tagger to\n",
      "[nltk_data]     /home/jovyan/nltk_data...\n",
      "[nltk_data]   Package averaged_perceptron_tagger is already up-to-\n",
      "[nltk_data]       date!\n",
      "[nltk_data] Downloading package punkt to /home/jovyan/nltk_data...\n",
      "[nltk_data]   Package punkt is already up-to-date!\n"
     ]
    },
    {
     "data": {
      "text/plain": [
       "True"
      ]
     },
     "execution_count": 8,
     "metadata": {},
     "output_type": "execute_result"
    }
   ],
   "source": [
    "nltk.download('wordnet')\n",
    "nltk.download('averaged_perceptron_tagger')\n",
    "nltk.download('punkt')"
   ]
  },
  {
   "cell_type": "code",
   "execution_count": 9,
   "metadata": {},
   "outputs": [],
   "source": [
    "# Функция для получения POS-тега в формате wordnet\n",
    "def get_wordnet_pos(treebank_tag):\n",
    "    if treebank_tag.startswith('J'):\n",
    "        return wordnet.ADJ\n",
    "    elif treebank_tag.startswith('V'):\n",
    "        return wordnet.VERB\n",
    "    elif treebank_tag.startswith('N'):\n",
    "        return wordnet.NOUN\n",
    "    elif treebank_tag.startswith('R'):\n",
    "        return wordnet.ADV\n",
    "    else:\n",
    "        return wordnet.NOUN  # по умолчанию считаем существительным"
   ]
  },
  {
   "cell_type": "code",
   "execution_count": 10,
   "metadata": {},
   "outputs": [],
   "source": [
    "def proper_lemmatize(text):\n",
    "    # Токенизация и получение POS-тегов\n",
    "    tokens = nltk.word_tokenize(text.lower())\n",
    "    pos_tags = nltk.pos_tag(tokens)\n",
    "    \n",
    "    lemmatized_words = []\n",
    "    for word, tag in pos_tags:\n",
    "        if word.isalpha():  # пропускаем не-слова\n",
    "            wordnet_pos = get_wordnet_pos(tag)\n",
    "            lemma = lemmatizer.lemmatize(word, wordnet_pos)\n",
    "            lemmatized_words.append(lemma)\n",
    "    \n",
    "    return ' '.join(lemmatized_words)"
   ]
  },
  {
   "cell_type": "markdown",
   "metadata": {},
   "source": [
    "def lemmatize_text(text):\n",
    "    text = text.lower()\n",
    "    text = re.sub(r'<.*?>', '', text)\n",
    "    text = re.sub(r'http\\S+', '', text)\n",
    "    text = re.sub(r'@\\w+', '', text)\n",
    "    text = re.sub(r'[^a-zA-Z\\s]', ' ', text)\n",
    "    text = re.sub(r'\\s+', ' ', text).strip()\n",
    "    words = text.split()\n",
    "    lemmatized_words = [lemmatizer.lemmatize(word) for word in words]\n",
    "    return ' '.join(lemmatized_words)"
   ]
  },
  {
   "cell_type": "code",
   "execution_count": 11,
   "metadata": {},
   "outputs": [
    {
     "data": {
      "application/vnd.jupyter.widget-view+json": {
       "model_id": "b1593e9530504371b2fb88772bd6972e",
       "version_major": 2,
       "version_minor": 0
      },
      "text/plain": [
       "  0%|          | 0/159292 [00:00<?, ?it/s]"
      ]
     },
     "metadata": {},
     "output_type": "display_data"
    }
   ],
   "source": [
    "tqdm.pandas()\n",
    "comments_data['lemme_lext'] = comments_data['text'].progress_apply(proper_lemmatize)"
   ]
  },
  {
   "cell_type": "code",
   "execution_count": 12,
   "metadata": {},
   "outputs": [
    {
     "data": {
      "text/html": [
       "<div>\n",
       "<style scoped>\n",
       "    .dataframe tbody tr th:only-of-type {\n",
       "        vertical-align: middle;\n",
       "    }\n",
       "\n",
       "    .dataframe tbody tr th {\n",
       "        vertical-align: top;\n",
       "    }\n",
       "\n",
       "    .dataframe thead th {\n",
       "        text-align: right;\n",
       "    }\n",
       "</style>\n",
       "<table border=\"1\" class=\"dataframe\">\n",
       "  <thead>\n",
       "    <tr style=\"text-align: right;\">\n",
       "      <th></th>\n",
       "      <th>text</th>\n",
       "      <th>toxic</th>\n",
       "      <th>lemme_lext</th>\n",
       "    </tr>\n",
       "  </thead>\n",
       "  <tbody>\n",
       "    <tr>\n",
       "      <th>0</th>\n",
       "      <td>Explanation\\nWhy the edits made under my usern...</td>\n",
       "      <td>0</td>\n",
       "      <td>explanation why the edits make under my userna...</td>\n",
       "    </tr>\n",
       "    <tr>\n",
       "      <th>1</th>\n",
       "      <td>D'aww! He matches this background colour I'm s...</td>\n",
       "      <td>0</td>\n",
       "      <td>he match this background colour i seemingly st...</td>\n",
       "    </tr>\n",
       "    <tr>\n",
       "      <th>2</th>\n",
       "      <td>Hey man, I'm really not trying to edit war. It...</td>\n",
       "      <td>0</td>\n",
       "      <td>hey man i really not try to edit war it just t...</td>\n",
       "    </tr>\n",
       "    <tr>\n",
       "      <th>3</th>\n",
       "      <td>\"\\nMore\\nI can't make any real suggestions on ...</td>\n",
       "      <td>0</td>\n",
       "      <td>more i ca make any real suggestion on improvem...</td>\n",
       "    </tr>\n",
       "    <tr>\n",
       "      <th>4</th>\n",
       "      <td>You, sir, are my hero. Any chance you remember...</td>\n",
       "      <td>0</td>\n",
       "      <td>you sir be my hero any chance you remember wha...</td>\n",
       "    </tr>\n",
       "  </tbody>\n",
       "</table>\n",
       "</div>"
      ],
      "text/plain": [
       "                                                text  toxic  \\\n",
       "0  Explanation\\nWhy the edits made under my usern...      0   \n",
       "1  D'aww! He matches this background colour I'm s...      0   \n",
       "2  Hey man, I'm really not trying to edit war. It...      0   \n",
       "3  \"\\nMore\\nI can't make any real suggestions on ...      0   \n",
       "4  You, sir, are my hero. Any chance you remember...      0   \n",
       "\n",
       "                                          lemme_lext  \n",
       "0  explanation why the edits make under my userna...  \n",
       "1  he match this background colour i seemingly st...  \n",
       "2  hey man i really not try to edit war it just t...  \n",
       "3  more i ca make any real suggestion on improvem...  \n",
       "4  you sir be my hero any chance you remember wha...  "
      ]
     },
     "execution_count": 12,
     "metadata": {},
     "output_type": "execute_result"
    }
   ],
   "source": [
    "# код ревьюера\n",
    "\n",
    "comments_data.head()"
   ]
  },
  {
   "cell_type": "markdown",
   "metadata": {},
   "source": [
    "- Дисбаланс целевого признака - перекос в сторону нетоксичных комментариев.\n",
    "- При разделении на выборки нужно будет стратифицировать по целевому признаку\n",
    "\n",
    "\n",
    "- Для лемматизации будем использовать `WordNetLemmatizer()`, комментарии в твитах представлены на английском языке\n",
    "- При лемматизации нужно привести текст к нижнему регистру и убрать все спец.символы, ссылки и адреса - только так получилось поднять метрику f1 до приемлемого значения"
   ]
  },
  {
   "cell_type": "markdown",
   "metadata": {},
   "source": [
    "## Обучение"
   ]
  },
  {
   "cell_type": "markdown",
   "metadata": {},
   "source": [
    "- Для векторизации применим `TfidfVectorizer`\n",
    "- Моделью классификации выберем `LogisticRegression` с гиперпараметрами `max_iter=1000, C=0.8` и также учтем балансировку классов"
   ]
  },
  {
   "cell_type": "code",
   "execution_count": 13,
   "metadata": {},
   "outputs": [],
   "source": [
    "X = comments_data['lemme_lext']\n",
    "y = comments_data['toxic']"
   ]
  },
  {
   "cell_type": "code",
   "execution_count": 14,
   "metadata": {},
   "outputs": [],
   "source": [
    "X_train, X_test, y_train, y_test = train_test_split(X, y, test_size=0.2, random_state=RANDOM_STATE, stratify=y)"
   ]
  },
  {
   "cell_type": "code",
   "execution_count": 15,
   "metadata": {},
   "outputs": [],
   "source": [
    "# Определение моделей\n",
    "models = {\n",
    "    'LogisticRegression': {\n",
    "        'model': Pipeline([\n",
    "            ('tfidf', TfidfVectorizer()),\n",
    "            ('model', LogisticRegression(max_iter=1000, random_state=RANDOM_STATE))\n",
    "        ]),\n",
    "        'params': {\n",
    "            'model__C': [0.1, 1.0]\n",
    "        }\n",
    "    },\n",
    "    'LinearSVC': {\n",
    "        'model': Pipeline([\n",
    "            ('tfidf', TfidfVectorizer()),\n",
    "            ('model', LinearSVC(random_state=RANDOM_STATE))\n",
    "        ]),\n",
    "        'params': {\n",
    "        }\n",
    "    }\n",
    "}"
   ]
  },
  {
   "cell_type": "code",
   "execution_count": 16,
   "metadata": {},
   "outputs": [
    {
     "data": {
      "application/vnd.jupyter.widget-view+json": {
       "model_id": "a75848c07d3f4728969e4c521c536226",
       "version_major": 2,
       "version_minor": 0
      },
      "text/plain": [
       "Обучение моделей:   0%|          | 0/2 [00:00<?, ?it/s]"
      ]
     },
     "metadata": {},
     "output_type": "display_data"
    },
    {
     "name": "stdout",
     "output_type": "stream",
     "text": [
      "Обучение модели: LogisticRegression\n",
      "Время выполнения: 255.30 сек\n",
      "Лучшая оценка F1_score: 0.7239\n",
      "Лучшие параметры: {'model__C': 1.0}\n",
      "\n",
      "Обучение модели: LinearSVC\n",
      "Время выполнения: 23.95 сек\n",
      "Лучшая оценка F1_score: 0.7784\n",
      "Лучшие параметры: {}\n",
      "\n",
      "Лучшие модели и их оценки F1_score:\n",
      "LogisticRegression: F1_score = 0.7239\n",
      "LinearSVC: F1_score = 0.7784\n"
     ]
    }
   ],
   "source": [
    "# Словарь для хранения лучших моделей и их оценок\n",
    "best_models = {}\n",
    "best_scores = {}\n",
    "\n",
    "# Обучение и подбор гиперпараметров для каждой модели\n",
    "for name, config in tqdm(models.items(), desc=\"Обучение моделей\"):\n",
    "    print(f\"Обучение модели: {name}\")\n",
    "    start_time = time()\n",
    "\n",
    "    grid = GridSearchCV(\n",
    "        estimator=config['model'],\n",
    "        param_grid=config['params'],\n",
    "        cv=3,\n",
    "        scoring='f1',\n",
    "        n_jobs=-1,\n",
    "        verbose=0\n",
    "    )\n",
    "        \n",
    "    grid.fit(X_train, y_train)\n",
    "        \n",
    "    best_models[name] = grid.best_estimator_\n",
    "    best_scores[name] = grid.best_score_\n",
    "    \n",
    "    print(f\"Время выполнения: {time() - start_time:.2f} сек\")\n",
    "    print(f\"Лучшая оценка F1_score: {grid.best_score_:.4f}\")\n",
    "    print(f\"Лучшие параметры: {grid.best_params_}\\n\")\n",
    "\n",
    "# Вывод лучших моделей и их F1_score\n",
    "print(\"Лучшие модели и их оценки F1_score:\")\n",
    "for name, score in best_scores.items():\n",
    "    print(f\"{name}: F1_score = {score:.4f}\")"
   ]
  },
  {
   "cell_type": "markdown",
   "metadata": {},
   "source": [
    "Проведем блайнд-тест на тестовой выборке лучшей модели"
   ]
  },
  {
   "cell_type": "code",
   "execution_count": 17,
   "metadata": {},
   "outputs": [],
   "source": [
    "best_model_name = max(best_scores, key=best_scores.get)\n",
    "best_model = best_models[best_model_name]\n",
    "test_pred = best_model.predict(X_test)"
   ]
  },
  {
   "cell_type": "code",
   "execution_count": 20,
   "metadata": {},
   "outputs": [
    {
     "name": "stdout",
     "output_type": "stream",
     "text": [
      "Метрика F1 на тестовой выборке: 0.7871056714359593\n"
     ]
    }
   ],
   "source": [
    "print('Метрика F1 на тестовой выборке:', f1_score(y_test, test_pred))"
   ]
  },
  {
   "cell_type": "markdown",
   "metadata": {},
   "source": [
    "## Выводы"
   ]
  },
  {
   "cell_type": "markdown",
   "metadata": {},
   "source": [
    "1. Загрузили и преобработали данные\n",
    "    - Привели к нижнему регистру\n",
    "    - Убрали спец.символы, лишние символы, HTML-теги, URL, упоминании\n",
    "2. Обнаружили дисбаланс целевого признака\n",
    "    - При разделении на обучающую и тестовую выборку стратифицировали данные по целевому признаку\n",
    "3. Векторизировали данные при помощи `TfidfVectorizer()`\n",
    "4. Выбрали и обучили модели `LogisticRegression` с гиперпараметрами `max_iter=1000, C=1` и `SVC`\n",
    "\n",
    "\n",
    "**Получили следующие метрики f1-score на кросс-валидации:**\n",
    "\n",
    "- `Logistic Regression F1: 0.7239`\n",
    "- `Linear SVM F1: 0.7784`\n",
    "\n",
    "Лучшей моделью стала модель опорных векторов. Лучшая метрика f1, а также время обучения `24.20 сек`\n",
    "\n",
    "На тестовой выборке лучшая модель показала `f1_score = 0.787`\n",
    "\n",
    "Улучшить значение метрики можно добавив гиперпараметры в векторизация (но в тренажере умирает ядро по кд), использовать другую библиотеку для лемматизации текстов и использоваться другие модели (бустинги или нейронные), использовать BERT вместо TDIDF"
   ]
  }
 ],
 "metadata": {
  "ExecuteTimeLog": [
   {
    "duration": 436,
    "start_time": "2025-08-29T16:19:41.711Z"
   },
   {
    "duration": 154,
    "start_time": "2025-08-29T16:20:07.968Z"
   },
   {
    "duration": 12,
    "start_time": "2025-08-29T16:20:14.280Z"
   },
   {
    "duration": 946,
    "start_time": "2025-08-29T16:20:23.715Z"
   },
   {
    "duration": 17,
    "start_time": "2025-08-29T16:20:27.748Z"
   },
   {
    "duration": 16,
    "start_time": "2025-08-29T16:21:13.330Z"
   },
   {
    "duration": 11,
    "start_time": "2025-08-29T16:21:20.049Z"
   },
   {
    "duration": 12,
    "start_time": "2025-08-29T16:21:25.950Z"
   },
   {
    "duration": 10,
    "start_time": "2025-08-29T16:21:29.658Z"
   },
   {
    "duration": 15,
    "start_time": "2025-08-29T16:21:33.919Z"
   },
   {
    "duration": 983,
    "start_time": "2025-08-29T16:26:18.352Z"
   },
   {
    "duration": 3,
    "start_time": "2025-08-29T16:28:34.143Z"
   },
   {
    "duration": 63,
    "start_time": "2025-08-29T16:28:44.485Z"
   },
   {
    "duration": 12,
    "start_time": "2025-08-29T16:28:54.262Z"
   },
   {
    "duration": 2208,
    "start_time": "2025-08-29T16:29:17.243Z"
   },
   {
    "duration": 12,
    "start_time": "2025-08-29T16:29:26.370Z"
   },
   {
    "duration": 9,
    "start_time": "2025-08-29T16:29:45.503Z"
   },
   {
    "duration": 12,
    "start_time": "2025-08-29T16:29:58.391Z"
   },
   {
    "duration": 2,
    "start_time": "2025-08-29T16:30:10.456Z"
   },
   {
    "duration": 14,
    "start_time": "2025-08-29T16:30:20.094Z"
   },
   {
    "duration": 959,
    "start_time": "2025-08-29T16:32:34.896Z"
   },
   {
    "duration": 11,
    "start_time": "2025-08-29T16:32:36.853Z"
   },
   {
    "duration": 3,
    "start_time": "2025-08-29T16:37:44.514Z"
   },
   {
    "duration": 3,
    "start_time": "2025-08-29T16:37:50.053Z"
   },
   {
    "duration": 2,
    "start_time": "2025-08-29T16:38:18.012Z"
   },
   {
    "duration": 4,
    "start_time": "2025-08-29T16:38:53.993Z"
   },
   {
    "duration": 13,
    "start_time": "2025-08-29T16:39:25.099Z"
   },
   {
    "duration": 13,
    "start_time": "2025-08-29T16:39:54.605Z"
   },
   {
    "duration": 922,
    "start_time": "2025-08-29T16:40:00.220Z"
   },
   {
    "duration": 16,
    "start_time": "2025-08-29T16:40:01.144Z"
   },
   {
    "duration": 40,
    "start_time": "2025-08-29T16:40:01.161Z"
   },
   {
    "duration": 2,
    "start_time": "2025-08-29T16:40:02.410Z"
   },
   {
    "duration": 1292,
    "start_time": "2025-08-29T16:40:11.596Z"
   },
   {
    "duration": 968,
    "start_time": "2025-08-29T16:40:12.890Z"
   },
   {
    "duration": 15,
    "start_time": "2025-08-29T16:40:13.862Z"
   },
   {
    "duration": 33,
    "start_time": "2025-08-29T16:40:13.880Z"
   },
   {
    "duration": 12,
    "start_time": "2025-08-29T16:40:13.915Z"
   },
   {
    "duration": 2185,
    "start_time": "2025-08-29T16:40:13.928Z"
   },
   {
    "duration": 32,
    "start_time": "2025-08-29T16:40:16.115Z"
   },
   {
    "duration": 150,
    "start_time": "2025-08-29T16:40:16.149Z"
   },
   {
    "duration": 10,
    "start_time": "2025-08-29T16:40:21.541Z"
   },
   {
    "duration": 4,
    "start_time": "2025-08-29T16:40:26.019Z"
   },
   {
    "duration": 31432,
    "start_time": "2025-08-29T16:40:43.693Z"
   },
   {
    "duration": 30525,
    "start_time": "2025-08-29T16:41:54.183Z"
   },
   {
    "duration": 5,
    "start_time": "2025-08-29T16:42:38.509Z"
   },
   {
    "duration": 30662,
    "start_time": "2025-08-29T16:47:28.247Z"
   },
   {
    "duration": 1369,
    "start_time": "2025-08-29T16:48:02.450Z"
   },
   {
    "duration": 3,
    "start_time": "2025-08-29T16:48:07.886Z"
   },
   {
    "duration": 4,
    "start_time": "2025-08-29T16:48:25.053Z"
   },
   {
    "duration": 33,
    "start_time": "2025-08-29T16:48:27.668Z"
   },
   {
    "duration": 8107,
    "start_time": "2025-08-29T16:48:34.397Z"
   },
   {
    "duration": 58862,
    "start_time": "2025-08-29T16:48:43.881Z"
   },
   {
    "duration": 16,
    "start_time": "2025-08-29T16:49:42.746Z"
   },
   {
    "duration": 3,
    "start_time": "2025-08-29T16:54:17.990Z"
   },
   {
    "duration": 3,
    "start_time": "2025-08-29T16:54:22.106Z"
   },
   {
    "duration": 17,
    "start_time": "2025-08-29T16:54:34.567Z"
   },
   {
    "duration": 821,
    "start_time": "2025-08-29T16:56:25.676Z"
   },
   {
    "duration": 11,
    "start_time": "2025-08-29T16:56:26.498Z"
   },
   {
    "duration": 20,
    "start_time": "2025-08-29T16:56:26.511Z"
   },
   {
    "duration": 4,
    "start_time": "2025-08-29T16:56:27.203Z"
   },
   {
    "duration": 7,
    "start_time": "2025-08-29T16:56:29.623Z"
   },
   {
    "duration": 45,
    "start_time": "2025-08-29T16:56:29.632Z"
   },
   {
    "duration": 1357,
    "start_time": "2025-08-29T16:56:33.259Z"
   },
   {
    "duration": 961,
    "start_time": "2025-08-29T16:56:34.618Z"
   },
   {
    "duration": 14,
    "start_time": "2025-08-29T16:56:35.581Z"
   },
   {
    "duration": 50,
    "start_time": "2025-08-29T16:56:35.596Z"
   },
   {
    "duration": 33,
    "start_time": "2025-08-29T16:56:35.648Z"
   },
   {
    "duration": 2173,
    "start_time": "2025-08-29T16:56:35.682Z"
   },
   {
    "duration": 5,
    "start_time": "2025-08-29T16:56:37.857Z"
   },
   {
    "duration": 20337,
    "start_time": "2025-08-29T16:56:37.863Z"
   },
   {
    "duration": 3,
    "start_time": "2025-08-29T16:56:58.202Z"
   },
   {
    "duration": 47,
    "start_time": "2025-08-29T16:56:58.207Z"
   },
   {
    "duration": 5450,
    "start_time": "2025-08-29T16:56:58.256Z"
   },
   {
    "duration": 53637,
    "start_time": "2025-08-29T16:57:03.708Z"
   },
   {
    "duration": 103,
    "start_time": "2025-08-29T16:57:57.348Z"
   },
   {
    "duration": 1408,
    "start_time": "2025-08-29T17:00:22.615Z"
   },
   {
    "duration": 1007,
    "start_time": "2025-08-29T17:00:24.025Z"
   },
   {
    "duration": 17,
    "start_time": "2025-08-29T17:00:25.034Z"
   },
   {
    "duration": 50,
    "start_time": "2025-08-29T17:00:25.053Z"
   },
   {
    "duration": 33,
    "start_time": "2025-08-29T17:00:25.105Z"
   },
   {
    "duration": 2219,
    "start_time": "2025-08-29T17:00:25.140Z"
   },
   {
    "duration": 10,
    "start_time": "2025-08-29T17:00:27.361Z"
   },
   {
    "duration": 540,
    "start_time": "2025-08-29T17:00:27.373Z"
   },
   {
    "duration": 0,
    "start_time": "2025-08-29T17:00:27.914Z"
   },
   {
    "duration": 0,
    "start_time": "2025-08-29T17:00:27.916Z"
   },
   {
    "duration": 0,
    "start_time": "2025-08-29T17:00:27.917Z"
   },
   {
    "duration": 0,
    "start_time": "2025-08-29T17:00:27.918Z"
   },
   {
    "duration": 0,
    "start_time": "2025-08-29T17:00:27.919Z"
   },
   {
    "duration": 3,
    "start_time": "2025-08-29T17:00:43.990Z"
   },
   {
    "duration": 4,
    "start_time": "2025-08-29T17:00:49.664Z"
   },
   {
    "duration": 38926,
    "start_time": "2025-08-29T17:00:50.689Z"
   },
   {
    "duration": 4,
    "start_time": "2025-08-29T17:01:29.617Z"
   },
   {
    "duration": 45,
    "start_time": "2025-08-29T17:01:29.622Z"
   },
   {
    "duration": 7322,
    "start_time": "2025-08-29T17:01:29.669Z"
   },
   {
    "duration": 56750,
    "start_time": "2025-08-29T17:01:36.993Z"
   },
   {
    "duration": 104,
    "start_time": "2025-08-29T17:02:33.745Z"
   },
   {
    "duration": 631,
    "start_time": "2025-08-29T17:02:33.851Z"
   },
   {
    "duration": 127,
    "start_time": "2025-08-29T17:02:48.030Z"
   },
   {
    "duration": 122,
    "start_time": "2025-08-29T17:02:57.789Z"
   },
   {
    "duration": 105,
    "start_time": "2025-08-29T17:03:17.835Z"
   },
   {
    "duration": 7518,
    "start_time": "2025-08-29T17:03:19.882Z"
   },
   {
    "duration": 53539,
    "start_time": "2025-08-29T17:03:27.402Z"
   },
   {
    "duration": 19,
    "start_time": "2025-08-29T17:04:20.943Z"
   },
   {
    "duration": 84425,
    "start_time": "2025-08-29T17:05:22.715Z"
   },
   {
    "duration": 18,
    "start_time": "2025-08-29T17:06:47.142Z"
   },
   {
    "duration": 74,
    "start_time": "2025-08-29T17:07:19.161Z"
   },
   {
    "duration": 1606,
    "start_time": "2025-08-29T17:07:36.077Z"
   },
   {
    "duration": 1029,
    "start_time": "2025-08-29T17:07:37.686Z"
   },
   {
    "duration": 23,
    "start_time": "2025-08-29T17:07:38.717Z"
   },
   {
    "duration": 127,
    "start_time": "2025-08-29T17:07:38.742Z"
   },
   {
    "duration": 135,
    "start_time": "2025-08-29T17:07:38.872Z"
   },
   {
    "duration": 3,
    "start_time": "2025-08-29T17:07:39.008Z"
   },
   {
    "duration": 2273,
    "start_time": "2025-08-29T17:07:39.012Z"
   },
   {
    "duration": 27,
    "start_time": "2025-08-29T17:07:41.287Z"
   },
   {
    "duration": 38636,
    "start_time": "2025-08-29T17:07:41.316Z"
   },
   {
    "duration": 3,
    "start_time": "2025-08-29T17:08:19.954Z"
   },
   {
    "duration": 64,
    "start_time": "2025-08-29T17:08:19.959Z"
   },
   {
    "duration": 1740,
    "start_time": "2025-08-29T17:38:06.106Z"
   },
   {
    "duration": 1008,
    "start_time": "2025-08-29T17:38:07.849Z"
   },
   {
    "duration": 15,
    "start_time": "2025-08-29T17:38:08.859Z"
   },
   {
    "duration": 111,
    "start_time": "2025-08-29T17:38:08.875Z"
   },
   {
    "duration": 213,
    "start_time": "2025-08-29T17:38:08.988Z"
   },
   {
    "duration": 3,
    "start_time": "2025-08-29T17:38:09.203Z"
   },
   {
    "duration": 2329,
    "start_time": "2025-08-29T17:38:09.207Z"
   },
   {
    "duration": 32,
    "start_time": "2025-08-29T17:38:11.538Z"
   },
   {
    "duration": 38546,
    "start_time": "2025-08-29T17:38:11.572Z"
   },
   {
    "duration": 3,
    "start_time": "2025-08-29T17:38:50.120Z"
   },
   {
    "duration": 88,
    "start_time": "2025-08-29T17:38:50.125Z"
   },
   {
    "duration": 1540,
    "start_time": "2025-08-29T17:44:57.775Z"
   },
   {
    "duration": 960,
    "start_time": "2025-08-29T17:44:59.317Z"
   },
   {
    "duration": 19,
    "start_time": "2025-08-29T17:45:00.280Z"
   },
   {
    "duration": 108,
    "start_time": "2025-08-29T17:45:00.301Z"
   },
   {
    "duration": 195,
    "start_time": "2025-08-29T17:45:00.411Z"
   },
   {
    "duration": 3,
    "start_time": "2025-08-29T17:45:00.608Z"
   },
   {
    "duration": 2281,
    "start_time": "2025-08-29T17:45:00.612Z"
   },
   {
    "duration": 164,
    "start_time": "2025-08-29T17:45:02.895Z"
   },
   {
    "duration": 38586,
    "start_time": "2025-08-29T17:45:03.061Z"
   },
   {
    "duration": 3,
    "start_time": "2025-08-29T17:45:41.649Z"
   },
   {
    "duration": 86,
    "start_time": "2025-08-29T17:45:41.654Z"
   },
   {
    "duration": 1596,
    "start_time": "2025-08-29T17:46:09.669Z"
   },
   {
    "duration": 962,
    "start_time": "2025-08-29T17:46:11.267Z"
   },
   {
    "duration": 18,
    "start_time": "2025-08-29T17:46:12.231Z"
   },
   {
    "duration": 12,
    "start_time": "2025-08-29T17:46:12.251Z"
   },
   {
    "duration": 149,
    "start_time": "2025-08-29T17:46:12.265Z"
   },
   {
    "duration": 3,
    "start_time": "2025-08-29T17:46:12.416Z"
   },
   {
    "duration": 2198,
    "start_time": "2025-08-29T17:46:12.420Z"
   },
   {
    "duration": 8,
    "start_time": "2025-08-29T17:46:14.620Z"
   },
   {
    "duration": 38934,
    "start_time": "2025-08-29T17:46:14.630Z"
   },
   {
    "duration": 4,
    "start_time": "2025-08-29T17:46:53.565Z"
   },
   {
    "duration": 74,
    "start_time": "2025-08-29T17:46:53.570Z"
   },
   {
    "duration": 7194,
    "start_time": "2025-08-29T17:46:53.645Z"
   },
   {
    "duration": 54602,
    "start_time": "2025-08-29T17:47:00.841Z"
   },
   {
    "duration": 108,
    "start_time": "2025-08-29T17:47:55.446Z"
   },
   {
    "duration": 1546,
    "start_time": "2025-08-30T06:54:13.681Z"
   },
   {
    "duration": 970,
    "start_time": "2025-08-30T06:54:15.229Z"
   },
   {
    "duration": 15,
    "start_time": "2025-08-30T06:54:16.200Z"
   },
   {
    "duration": 25,
    "start_time": "2025-08-30T06:54:16.216Z"
   },
   {
    "duration": 153,
    "start_time": "2025-08-30T06:54:16.243Z"
   },
   {
    "duration": 3,
    "start_time": "2025-08-30T06:54:16.398Z"
   },
   {
    "duration": 36,
    "start_time": "2025-08-30T06:54:16.402Z"
   },
   {
    "duration": 38301,
    "start_time": "2025-08-30T06:54:16.440Z"
   },
   {
    "duration": 64,
    "start_time": "2025-08-30T06:54:54.743Z"
   },
   {
    "duration": 6969,
    "start_time": "2025-08-30T06:54:54.809Z"
   },
   {
    "duration": 52061,
    "start_time": "2025-08-30T06:55:01.780Z"
   },
   {
    "duration": 17,
    "start_time": "2025-08-30T06:55:53.843Z"
   },
   {
    "duration": 28,
    "start_time": "2025-08-30T06:55:53.863Z"
   },
   {
    "duration": 529888,
    "start_time": "2025-08-30T06:56:22.745Z"
   },
   {
    "duration": 5128,
    "start_time": "2025-08-30T07:05:12.635Z"
   },
   {
    "duration": 4,
    "start_time": "2025-08-30T07:05:17.765Z"
   },
   {
    "duration": 1560,
    "start_time": "2025-08-30T07:39:19.368Z"
   },
   {
    "duration": 977,
    "start_time": "2025-08-30T07:39:20.930Z"
   },
   {
    "duration": 14,
    "start_time": "2025-08-30T07:39:21.909Z"
   },
   {
    "duration": 41,
    "start_time": "2025-08-30T07:39:21.925Z"
   },
   {
    "duration": 221,
    "start_time": "2025-08-30T07:39:21.969Z"
   },
   {
    "duration": 3,
    "start_time": "2025-08-30T07:39:22.192Z"
   },
   {
    "duration": 5,
    "start_time": "2025-08-30T07:39:22.197Z"
   },
   {
    "duration": 37708,
    "start_time": "2025-08-30T07:39:22.204Z"
   },
   {
    "duration": 77,
    "start_time": "2025-08-30T07:39:59.914Z"
   },
   {
    "duration": 7331,
    "start_time": "2025-08-30T07:39:59.992Z"
   },
   {
    "duration": 51814,
    "start_time": "2025-08-30T07:40:07.325Z"
   },
   {
    "duration": 19,
    "start_time": "2025-08-30T07:40:59.141Z"
   },
   {
    "duration": 543966,
    "start_time": "2025-08-30T07:40:59.162Z"
   },
   {
    "duration": 5155,
    "start_time": "2025-08-30T07:50:03.138Z"
   },
   {
    "duration": 4,
    "start_time": "2025-08-30T07:50:08.294Z"
   },
   {
    "duration": 3950,
    "start_time": "2025-08-30T10:08:18.291Z"
   },
   {
    "duration": 1114,
    "start_time": "2025-08-30T10:08:23.463Z"
   },
   {
    "duration": 16,
    "start_time": "2025-08-30T10:08:24.790Z"
   },
   {
    "duration": 17,
    "start_time": "2025-08-30T10:08:25.677Z"
   },
   {
    "duration": 253,
    "start_time": "2025-08-30T10:08:27.053Z"
   },
   {
    "duration": 4,
    "start_time": "2025-08-30T10:08:28.109Z"
   },
   {
    "duration": 6,
    "start_time": "2025-08-30T10:08:29.319Z"
   },
   {
    "duration": 43145,
    "start_time": "2025-08-30T10:08:30.183Z"
   },
   {
    "duration": 10,
    "start_time": "2025-08-30T10:09:52.289Z"
   },
   {
    "duration": 62,
    "start_time": "2025-08-30T12:38:25.167Z"
   },
   {
    "duration": 1825,
    "start_time": "2025-08-30T12:38:28.362Z"
   },
   {
    "duration": 950,
    "start_time": "2025-08-30T12:38:30.189Z"
   },
   {
    "duration": 18,
    "start_time": "2025-08-30T12:38:31.141Z"
   },
   {
    "duration": 37,
    "start_time": "2025-08-30T12:38:31.177Z"
   },
   {
    "duration": 36,
    "start_time": "2025-08-30T12:38:39.149Z"
   },
   {
    "duration": 39,
    "start_time": "2025-08-30T12:39:22.367Z"
   },
   {
    "duration": 43,
    "start_time": "2025-08-30T12:39:29.564Z"
   },
   {
    "duration": 298,
    "start_time": "2025-08-30T12:39:51.012Z"
   },
   {
    "duration": 43,
    "start_time": "2025-08-30T12:40:29.550Z"
   },
   {
    "duration": 213,
    "start_time": "2025-08-30T12:40:44.125Z"
   },
   {
    "duration": 2,
    "start_time": "2025-08-30T12:40:44.855Z"
   },
   {
    "duration": 6,
    "start_time": "2025-08-30T12:40:45.117Z"
   },
   {
    "duration": 12265,
    "start_time": "2025-08-30T12:40:45.682Z"
   },
   {
    "duration": 41656,
    "start_time": "2025-08-30T12:41:03.382Z"
   },
   {
    "duration": 10,
    "start_time": "2025-08-30T12:42:50.458Z"
   },
   {
    "duration": 4,
    "start_time": "2025-08-30T12:50:13.805Z"
   },
   {
    "duration": 4,
    "start_time": "2025-08-30T12:50:33.060Z"
   },
   {
    "duration": 3,
    "start_time": "2025-08-30T12:50:44.679Z"
   },
   {
    "duration": 2,
    "start_time": "2025-08-30T12:52:00.761Z"
   },
   {
    "duration": 4,
    "start_time": "2025-08-30T12:52:01.269Z"
   },
   {
    "duration": 4,
    "start_time": "2025-08-30T12:52:07.740Z"
   },
   {
    "duration": 423,
    "start_time": "2025-08-30T12:52:16.610Z"
   },
   {
    "duration": 564,
    "start_time": "2025-08-30T12:52:31.551Z"
   },
   {
    "duration": 616598,
    "start_time": "2025-08-30T12:52:38.403Z"
   },
   {
    "duration": 66,
    "start_time": "2025-08-30T13:07:49.170Z"
   },
   {
    "duration": 7140,
    "start_time": "2025-08-30T13:07:49.420Z"
   },
   {
    "duration": 38393,
    "start_time": "2025-08-30T13:07:56.562Z"
   },
   {
    "duration": 104,
    "start_time": "2025-08-30T13:08:34.957Z"
   },
   {
    "duration": 542909,
    "start_time": "2025-08-30T13:08:35.064Z"
   },
   {
    "duration": 5336,
    "start_time": "2025-08-30T13:17:37.975Z"
   },
   {
    "duration": 5,
    "start_time": "2025-08-30T13:17:43.312Z"
   },
   {
    "duration": 27,
    "start_time": "2025-08-30T13:17:43.319Z"
   },
   {
    "duration": 3,
    "start_time": "2025-08-30T14:12:00.079Z"
   },
   {
    "duration": 142,
    "start_time": "2025-08-30T14:12:01.084Z"
   },
   {
    "duration": 6968,
    "start_time": "2025-08-30T14:12:17.433Z"
   },
   {
    "duration": 3,
    "start_time": "2025-08-30T14:17:23.728Z"
   },
   {
    "duration": 90,
    "start_time": "2025-08-30T14:24:43.381Z"
   },
   {
    "duration": 114,
    "start_time": "2025-08-30T14:24:51.120Z"
   },
   {
    "duration": 96,
    "start_time": "2025-08-30T14:24:55.247Z"
   },
   {
    "duration": 5,
    "start_time": "2025-08-30T14:25:42.731Z"
   },
   {
    "duration": 4,
    "start_time": "2025-08-30T14:26:30.670Z"
   },
   {
    "duration": 34,
    "start_time": "2025-08-30T14:27:23.056Z"
   },
   {
    "duration": 4,
    "start_time": "2025-08-30T14:27:34.652Z"
   },
   {
    "duration": 38,
    "start_time": "2025-08-30T14:27:36.782Z"
   },
   {
    "duration": 1646,
    "start_time": "2025-08-30T14:43:48.946Z"
   },
   {
    "duration": 3,
    "start_time": "2025-08-30T14:43:50.594Z"
   },
   {
    "duration": 991,
    "start_time": "2025-08-30T14:43:50.598Z"
   },
   {
    "duration": 16,
    "start_time": "2025-08-30T14:43:51.591Z"
   },
   {
    "duration": 330,
    "start_time": "2025-08-30T14:43:51.610Z"
   },
   {
    "duration": 231,
    "start_time": "2025-08-30T14:43:51.948Z"
   },
   {
    "duration": 3,
    "start_time": "2025-08-30T14:43:52.181Z"
   },
   {
    "duration": 181,
    "start_time": "2025-08-30T14:43:52.186Z"
   },
   {
    "duration": 4,
    "start_time": "2025-08-30T14:43:52.369Z"
   },
   {
    "duration": 12,
    "start_time": "2025-08-30T14:43:52.374Z"
   },
   {
    "duration": 631266,
    "start_time": "2025-08-30T14:43:52.388Z"
   },
   {
    "duration": 7,
    "start_time": "2025-08-30T14:54:23.656Z"
   },
   {
    "duration": 4,
    "start_time": "2025-08-30T14:54:23.665Z"
   },
   {
    "duration": 90,
    "start_time": "2025-08-30T14:54:23.672Z"
   },
   {
    "duration": 7191,
    "start_time": "2025-08-30T14:54:23.764Z"
   },
   {
    "duration": 6,
    "start_time": "2025-08-30T14:54:30.957Z"
   },
   {
    "duration": 1589,
    "start_time": "2025-08-30T16:16:54.503Z"
   },
   {
    "duration": 2,
    "start_time": "2025-08-30T16:16:56.094Z"
   },
   {
    "duration": 1011,
    "start_time": "2025-08-30T16:16:56.098Z"
   },
   {
    "duration": 14,
    "start_time": "2025-08-30T16:16:57.111Z"
   },
   {
    "duration": 329,
    "start_time": "2025-08-30T16:16:57.128Z"
   },
   {
    "duration": 225,
    "start_time": "2025-08-30T16:16:57.459Z"
   },
   {
    "duration": 2,
    "start_time": "2025-08-30T16:16:57.686Z"
   },
   {
    "duration": 167,
    "start_time": "2025-08-30T16:16:57.690Z"
   },
   {
    "duration": 5,
    "start_time": "2025-08-30T16:16:57.859Z"
   },
   {
    "duration": 52,
    "start_time": "2025-08-30T16:16:57.865Z"
   },
   {
    "duration": 613706,
    "start_time": "2025-08-30T16:16:57.919Z"
   },
   {
    "duration": 8,
    "start_time": "2025-08-30T16:27:11.626Z"
   },
   {
    "duration": 3,
    "start_time": "2025-08-30T16:27:11.649Z"
   },
   {
    "duration": 71,
    "start_time": "2025-08-30T16:27:11.654Z"
   },
   {
    "duration": 7132,
    "start_time": "2025-08-30T16:27:11.727Z"
   },
   {
    "duration": 5,
    "start_time": "2025-08-30T16:27:18.861Z"
   },
   {
    "duration": 1673,
    "start_time": "2025-08-30T17:18:55.339Z"
   },
   {
    "duration": 3,
    "start_time": "2025-08-30T17:18:57.014Z"
   },
   {
    "duration": 984,
    "start_time": "2025-08-30T17:18:57.018Z"
   },
   {
    "duration": 15,
    "start_time": "2025-08-30T17:18:58.004Z"
   },
   {
    "duration": 323,
    "start_time": "2025-08-30T17:18:58.021Z"
   },
   {
    "duration": 216,
    "start_time": "2025-08-30T17:18:58.349Z"
   },
   {
    "duration": 3,
    "start_time": "2025-08-30T17:18:58.567Z"
   },
   {
    "duration": 190,
    "start_time": "2025-08-30T17:18:58.572Z"
   },
   {
    "duration": 4,
    "start_time": "2025-08-30T17:18:58.764Z"
   },
   {
    "duration": 42,
    "start_time": "2025-08-30T17:18:58.770Z"
   },
   {
    "duration": 30833,
    "start_time": "2025-08-30T17:18:58.814Z"
   },
   {
    "duration": 0,
    "start_time": "2025-08-30T17:19:29.649Z"
   },
   {
    "duration": 0,
    "start_time": "2025-08-30T17:19:29.650Z"
   },
   {
    "duration": 0,
    "start_time": "2025-08-30T17:19:29.651Z"
   },
   {
    "duration": 0,
    "start_time": "2025-08-30T17:19:29.652Z"
   },
   {
    "duration": 0,
    "start_time": "2025-08-30T17:19:29.653Z"
   },
   {
    "duration": 0,
    "start_time": "2025-08-30T17:19:29.654Z"
   },
   {
    "duration": 5,
    "start_time": "2025-08-30T17:28:30.564Z"
   },
   {
    "duration": 1659,
    "start_time": "2025-08-30T17:35:51.737Z"
   },
   {
    "duration": 3,
    "start_time": "2025-08-30T17:35:53.398Z"
   },
   {
    "duration": 1000,
    "start_time": "2025-08-30T17:35:53.402Z"
   },
   {
    "duration": 19,
    "start_time": "2025-08-30T17:35:54.405Z"
   },
   {
    "duration": 413,
    "start_time": "2025-08-30T17:35:54.427Z"
   },
   {
    "duration": 144,
    "start_time": "2025-08-30T17:35:54.849Z"
   },
   {
    "duration": 3,
    "start_time": "2025-08-30T17:35:54.994Z"
   },
   {
    "duration": 189,
    "start_time": "2025-08-30T17:35:54.999Z"
   },
   {
    "duration": 5,
    "start_time": "2025-08-30T17:35:55.190Z"
   },
   {
    "duration": 19,
    "start_time": "2025-08-30T17:35:55.197Z"
   },
   {
    "duration": 621369,
    "start_time": "2025-08-30T17:35:55.218Z"
   },
   {
    "duration": 7,
    "start_time": "2025-08-30T17:46:16.589Z"
   },
   {
    "duration": 7,
    "start_time": "2025-08-30T17:46:16.598Z"
   },
   {
    "duration": 88,
    "start_time": "2025-08-30T17:46:16.607Z"
   },
   {
    "duration": 5,
    "start_time": "2025-08-30T17:46:16.697Z"
   },
   {
    "duration": 179,
    "start_time": "2025-08-30T17:46:16.703Z"
   },
   {
    "duration": 1424,
    "start_time": "2025-08-30T19:36:41.210Z"
   },
   {
    "duration": 2,
    "start_time": "2025-08-30T19:36:42.636Z"
   },
   {
    "duration": 883,
    "start_time": "2025-08-30T19:36:42.640Z"
   },
   {
    "duration": 12,
    "start_time": "2025-08-30T19:36:43.524Z"
   },
   {
    "duration": 359,
    "start_time": "2025-08-30T19:36:43.538Z"
   },
   {
    "duration": 127,
    "start_time": "2025-08-30T19:36:43.898Z"
   },
   {
    "duration": 2,
    "start_time": "2025-08-30T19:36:44.027Z"
   },
   {
    "duration": 179,
    "start_time": "2025-08-30T19:36:44.030Z"
   },
   {
    "duration": 3,
    "start_time": "2025-08-30T19:36:44.210Z"
   },
   {
    "duration": 5,
    "start_time": "2025-08-30T19:36:44.214Z"
   },
   {
    "duration": 546042,
    "start_time": "2025-08-30T19:36:44.220Z"
   },
   {
    "duration": 7,
    "start_time": "2025-08-30T19:45:50.263Z"
   },
   {
    "duration": 29,
    "start_time": "2025-08-30T19:45:50.272Z"
   },
   {
    "duration": 130,
    "start_time": "2025-08-30T19:45:50.303Z"
   },
   {
    "duration": 4,
    "start_time": "2025-08-30T19:45:50.435Z"
   },
   {
    "duration": 2245250,
    "start_time": "2025-08-30T19:45:50.441Z"
   },
   {
    "duration": 4,
    "start_time": "2025-08-30T20:23:18.629Z"
   },
   {
    "duration": 281821,
    "start_time": "2025-08-30T20:23:26.943Z"
   },
   {
    "duration": 1273,
    "start_time": "2025-08-30T20:35:43.479Z"
   },
   {
    "duration": 11,
    "start_time": "2025-08-30T20:38:43.083Z"
   },
   {
    "duration": 11,
    "start_time": "2025-08-30T20:38:52.003Z"
   },
   {
    "duration": 19,
    "start_time": "2025-08-30T21:31:58.148Z"
   },
   {
    "duration": 1469,
    "start_time": "2025-08-30T21:32:07.168Z"
   },
   {
    "duration": 3,
    "start_time": "2025-08-30T21:32:08.639Z"
   },
   {
    "duration": 880,
    "start_time": "2025-08-30T21:32:08.643Z"
   },
   {
    "duration": 12,
    "start_time": "2025-08-30T21:32:09.524Z"
   },
   {
    "duration": 365,
    "start_time": "2025-08-30T21:32:09.549Z"
   },
   {
    "duration": 130,
    "start_time": "2025-08-30T21:32:09.916Z"
   },
   {
    "duration": 3,
    "start_time": "2025-08-30T21:32:10.047Z"
   },
   {
    "duration": 208,
    "start_time": "2025-08-30T21:32:10.051Z"
   },
   {
    "duration": 4,
    "start_time": "2025-08-30T21:32:10.260Z"
   },
   {
    "duration": 5,
    "start_time": "2025-08-30T21:32:10.266Z"
   },
   {
    "duration": 544177,
    "start_time": "2025-08-30T21:32:10.272Z"
   },
   {
    "duration": 7,
    "start_time": "2025-08-30T21:41:14.450Z"
   },
   {
    "duration": 5,
    "start_time": "2025-08-30T21:41:14.458Z"
   },
   {
    "duration": 61,
    "start_time": "2025-08-30T21:41:14.465Z"
   },
   {
    "duration": 4,
    "start_time": "2025-08-30T21:41:14.527Z"
   },
   {
    "duration": 279353,
    "start_time": "2025-08-30T21:41:14.549Z"
   },
   {
    "duration": 1302,
    "start_time": "2025-08-30T21:45:53.904Z"
   },
   {
    "duration": 135,
    "start_time": "2025-08-30T21:45:55.208Z"
   },
   {
    "duration": 166,
    "start_time": "2025-08-30T22:07:30.698Z"
   },
   {
    "duration": 13,
    "start_time": "2025-08-30T22:07:34.415Z"
   }
  ],
  "kernelspec": {
   "display_name": "Python 3 (ipykernel)",
   "language": "python",
   "name": "python3"
  },
  "language_info": {
   "codemirror_mode": {
    "name": "ipython",
    "version": 3
   },
   "file_extension": ".py",
   "mimetype": "text/x-python",
   "name": "python",
   "nbconvert_exporter": "python",
   "pygments_lexer": "ipython3",
   "version": "3.12.5"
  },
  "toc": {
   "base_numbering": 1,
   "nav_menu": {},
   "number_sections": true,
   "sideBar": true,
   "skip_h1_title": true,
   "title_cell": "Содержание",
   "title_sidebar": "Contents",
   "toc_cell": true,
   "toc_position": {
    "height": "calc(100% - 180px)",
    "left": "10px",
    "top": "150px",
    "width": "302.391px"
   },
   "toc_section_display": true,
   "toc_window_display": false
  }
 },
 "nbformat": 4,
 "nbformat_minor": 4
}
